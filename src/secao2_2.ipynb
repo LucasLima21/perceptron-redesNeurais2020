{
 "cells": [
  {
   "cell_type": "code",
   "execution_count": 1,
   "metadata": {},
   "outputs": [],
   "source": [
    "\"\"\"\n",
    "Alunos:\n",
    "    David Cardoso Yonekura\n",
    "    Lucas da Silva Lima\n",
    "    Rafael Barbosa de Carvalho\n",
    "\n",
    "\"\"\"\n",
    "\n",
    "import numpy as np\n",
    "import matplotlib.pyplot as plt\n",
    "import pandas as pd\n",
    "from neuron import Neuron"
   ]
  },
  {
   "cell_type": "code",
   "execution_count": null,
   "metadata": {},
   "outputs": [],
   "source": [
    "#problema pra exibir o grafico é em algo no data3, no data All vai de boa !!\n",
    "with open('data/data3.txt', 'rb') as file:\n",
    "    auxFile = file.read()\n",
    "\n",
    "\n",
    "data3 = np.frombuffer(auxFile)\n",
    "data3.resize((int(len(data3)/3)), 3)\n",
    "\n",
    "X = data3[...,0:2] #[[x01,x02], ...]\n",
    "y = data3[...,2] #[[yd0], [yd1], ...]\n",
    "\n",
    "# #adicionando x_0 no x(n)\n",
    "X = np.insert(X, 2, 1, axis=1)\n",
    "\n",
    "#instanciando o neuronio, inserindo apenas a taxa de aprendizado\n",
    "# e os intervalos superior e inferior dos pesos\n",
    "configs= [[0.4,-100,100], [0.4,-1,1], [0.4,-0.5,0.5], \n",
    "         [0.1,-100,100], [0.1,-1,1], [0.1,-0.5,0.5],\n",
    "        [0.01,-100,100], [0.01,-1,1], [0.01,-0.5,0.5]]\n",
    "\n",
    "\n",
    "fitWeight = []\n",
    "epoch = []\n",
    "for i in range(9):\n",
    "    print(\"Configuração: \", configs[i])\n",
    "    n = Neuron(configs[i][0], configs[i][1], configs[i][2])\n",
    "    print(\"Vetor de pesos inicial: \",n.weightArray)\n",
    "    n.iteratedFit(X, y, 100)\n",
    "    fitWeight.append(n.fitCountWeight)\n",
    "    epoch.append(n.epoch)\n",
    "    print(\"Alterações no vetor de Pesos: \", n.fitCountWeight)\n",
    "    print(\"Numero de Epocas: \", n.epoch)\n",
    "    print(\"Vetor de Pesos no final: \", np.around(n.weightArray,4))\n",
    "    print('\\n')\n",
    "    \n",
    "print(fitWeight, epoch)\n",
    "\n",
    "x = [i for i in range(-len(data3),len(data3))]\n",
    "line = [(n.weightArray[0]/n.weightArray[1]) * i * -1  - n.weightArray[2]/n.weightArray[0] for i in x]# calcula a reta y = mx + b"
   ]
  },
  {
   "cell_type": "code",
   "execution_count": null,
   "metadata": {},
   "outputs": [],
   "source": [
    "x_min, x_max = X[:, 0].min() - 0.1, X[:, 0].max() + 0.1\n",
    "y_min, y_max = X[:, 1].min() - 0.1, X[:, 1].max() + 0.1\n",
    "xx, yy = np.meshgrid(np.arange(x_min, x_max, 0.001),\n",
    "                     np.arange(y_min, y_max, 0.001))\n",
    "\n",
    "f, axarr = plt.subplots(1, 1, sharex='col', sharey='row', figsize=(10, 8))\n",
    "color = np.where(y == 0, 'r', 'b')\n",
    "\n",
    "for idx, clf, tt in zip([[0,0]],\n",
    "                        [n],\n",
    "                        ['logistic regression']):\n",
    "\n",
    "    Z = clf.predict(np.c_[xx.ravel(), yy.ravel()])\n",
    "    Z = np.array(Z)\n",
    "    Z = Z.reshape(xx.shape)\n",
    "\n",
    "    axarr.contourf(xx, yy, Z, alpha=0.2,cmap='Greys')\n",
    "    axarr.scatter(X[:, 0], X[:, 1], c=color, s=20, edgecolor='k',cmap='Greys')\n",
    "    axarr.set_title(tt)\n",
    "\n",
    "\n",
    "plt.show()\n",
    "\n",
    "# f.savefig('gaph2.png')\n",
    "# plt.close(f)\n",
    "\n",
    "#exportando a figura para por no markdown"
   ]
  },
  {
   "cell_type": "code",
   "execution_count": null,
   "metadata": {},
   "outputs": [],
   "source": []
  }
 ],
 "metadata": {
  "kernelspec": {
   "display_name": "Python 3",
   "language": "python",
   "name": "python3"
  },
  "language_info": {
   "codemirror_mode": {
    "name": "ipython",
    "version": 3
   },
   "file_extension": ".py",
   "mimetype": "text/x-python",
   "name": "python",
   "nbconvert_exporter": "python",
   "pygments_lexer": "ipython3",
   "version": "3.8.5"
  }
 },
 "nbformat": 4,
 "nbformat_minor": 4
}
