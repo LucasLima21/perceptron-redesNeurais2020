{
 "cells": [
  {
   "cell_type": "code",
   "execution_count": 7,
   "metadata": {},
   "outputs": [],
   "source": [
    "import numpy as np\n",
    "import pandas as pd\n",
    "import seaborn as sns\n",
    "import matplotlib.pyplot as pt"
   ]
  },
  {
   "cell_type": "code",
   "execution_count": 8,
   "metadata": {},
   "outputs": [
    {
     "name": "stdout",
     "output_type": "stream",
     "text": [
      "Alterações no vetor de Pesos:  21\n",
      "Numero de Epocas 2\n",
      "Vetor de Pesos no final [ 4.68364819e+35 -4.67536380e+35  0.00000000e+00]\n"
     ]
    }
   ],
   "source": [
    "class Neuron():\n",
    "    def __init__(self, dataArray, weightArray):\n",
    "        self.dataArray = dataArray\n",
    "        self.weightArray = weightArray\n",
    "        self.leraningRate = 0.1\n",
    "        self.epoch = 0\n",
    "        self.fitCountWeight = 0\n",
    "        self.changedWeight = 1\n",
    "        \n",
    "    \n",
    "    def updateWeightArray(self, expectValue, obtainedValue, index):\n",
    "        auxData = (0.1*(expectValue - obtainedValue))*self.dataArray[index]\n",
    "        newWeight = np.add(auxData, self.weightArray)\n",
    "        newWeight[2] = 0 # como é muito digito em float o ultimo valor 0 acaba assumindo valor infinatamente pequeno\n",
    "        # porem diferente de 0, e isso interferia no resultado mesmo q minimamente, pois o terceiro valor do peso é apenas\n",
    "        # para realizar operações com numpy\n",
    "        self.weightArray = np.copy(newWeight)\n",
    "        self.fitCountWeight+=1\n",
    "        self.changedWeight = 1\n",
    "        \n",
    "        \n",
    "    def training(self):\n",
    "        while(self.changedWeight == 1):\n",
    "            self.changedWeight = 0\n",
    "            for i in range(len(self.dataArray)):\n",
    "                u = np.inner(self.dataArray[i], self.weightArray)\n",
    "                if(u >= 0):\n",
    "                    f_u = 1.0\n",
    "                    if(f_u != self.dataArray[i][2]):\n",
    "                        self.updateWeightArray(self.dataArray[i][2], self.weightArray, i)\n",
    "                    \n",
    "                else:\n",
    "                    f_u = 0.0\n",
    "                    if(f_u != self.dataArray[i][2]):    \n",
    "                        self.updateWeightArray(self.dataArray[i][2], self.weightArray, i)\n",
    "                    \n",
    "            self.epoch += 1\n",
    "            \n",
    "\n",
    "        \n",
    "    \n",
    "with open('data/dataAll.txt', 'rb') as file:\n",
    "    auxFile = file.read()\n",
    "\n",
    "dataAll = np.frombuffer(auxFile)\n",
    "dataAll.resize((int(len(dataAll)/3)), 3)\n",
    "\n",
    "### gera vetor de pesos aleatoriamente e utilizá=los\n",
    "# arrayWeight = np.around(np.random.uniform(-0.5, 0.5, 2), 4)\n",
    "# zeros = np.zeros(1)\n",
    "# weight = np.append(arrayWeight, zeros)\n",
    "\n",
    "#valores postos de forma aleatoria, mas convergiu rapidamente pro treinamento em pouquissimas iterações\n",
    "weight = np.array([-0.4, 0.5, 0]) # ultimo valor 0 adicionado para que possa fazer operação np inner com outro array de mesmo tamanho\n",
    "# o mesmo nao deve afetar no resultado final do produto interno\n",
    "\n",
    "\n",
    "n = Neuron(dataAll, weight)\n",
    "n.training()\n",
    "print(\"Alterações no vetor de Pesos: \", n.fitCountWeight)\n",
    "print(\"Numero de Epocas\", n.epoch)\n",
    "print(\"Vetor de Pesos no final\", n.weightArray)"
   ]
  },
  {
   "cell_type": "code",
   "execution_count": null,
   "metadata": {},
   "outputs": [],
   "source": []
  },
  {
   "cell_type": "code",
   "execution_count": null,
   "metadata": {},
   "outputs": [],
   "source": []
  }
 ],
 "metadata": {
  "kernelspec": {
   "display_name": "Python (perceptron)",
   "language": "python",
   "name": "perceptron"
  },
  "language_info": {
   "codemirror_mode": {
    "name": "ipython",
    "version": 3
   },
   "file_extension": ".py",
   "mimetype": "text/x-python",
   "name": "python",
   "nbconvert_exporter": "python",
   "pygments_lexer": "ipython3",
   "version": "3.7.8"
  }
 },
 "nbformat": 4,
 "nbformat_minor": 4
}
