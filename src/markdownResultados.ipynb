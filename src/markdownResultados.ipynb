{
 "cells": [
  {
   "cell_type": "markdown",
   "metadata": {},
   "source": [
    "# Seção 2.1"
   ]
  },
  {
   "cell_type": "code",
   "execution_count": null,
   "metadata": {},
   "outputs": [],
   "source": [
    "print(\"Vetor de pesos inicial: \",n.weightArray)\n",
    "print(\"Alterações no vetor de Pesos: \", n.fitCountWeight)\n",
    "print(\"Numero de Epocas: \", n.epoch)\n",
    "print(\"Vetor de Pesos no final: \", np.around(n.weightArray,4))"
   ]
  },
  {
   "cell_type": "markdown",
   "metadata": {},
   "source": [
    "Vetor de pesos inicial:  **[ 0.49688117 -0.47478558  0.1762205 ]**\n",
    "\n",
    "&nbsp;\n",
    "Alterações no vetor de Pesos:  **36**\n",
    "\n",
    "&nbsp;\n",
    "Numero de Epocas:  **2**\n",
    "\n",
    "&nbsp;\n",
    "Vetor de Pesos no final:  **[ 222.4129 -221.7249    0.7762]**"
   ]
  },
  {
   "cell_type": "markdown",
   "metadata": {},
   "source": [
    "### Gráfico que exibe todos os exemplos do conjunto de dados e a reta que separa as classes 0 na cor vermelha, e 1 na cor azul."
   ]
  },
  {
   "cell_type": "markdown",
   "metadata": {},
   "source": [
    "![Figura 1](graph1.png)"
   ]
  },
  {
   "cell_type": "markdown",
   "metadata": {},
   "source": [
    "# Seção 2.2"
   ]
  },
  {
   "cell_type": "code",
   "execution_count": null,
   "metadata": {},
   "outputs": [],
   "source": []
  }
 ],
 "metadata": {
  "kernelspec": {
   "display_name": "Python 3",
   "language": "python",
   "name": "python3"
  },
  "language_info": {
   "codemirror_mode": {
    "name": "ipython",
    "version": 3
   },
   "file_extension": ".py",
   "mimetype": "text/x-python",
   "name": "python",
   "nbconvert_exporter": "python",
   "pygments_lexer": "ipython3",
   "version": "3.8.5"
  }
 },
 "nbformat": 4,
 "nbformat_minor": 4
}
